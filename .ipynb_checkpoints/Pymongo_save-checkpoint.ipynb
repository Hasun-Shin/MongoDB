{
 "cells": [
  {
   "cell_type": "code",
   "execution_count": 6,
   "metadata": {},
   "outputs": [],
   "source": [
    "from pymongo import MongoClient"
   ]
  },
  {
   "cell_type": "code",
   "execution_count": 7,
   "metadata": {},
   "outputs": [],
   "source": [
    "client = MongoClient(host='localhost', port=27017)\n"
   ]
  },
  {
   "cell_type": "code",
   "execution_count": 8,
   "metadata": {},
   "outputs": [],
   "source": [
    "db = client['test']"
   ]
  },
  {
   "cell_type": "code",
   "execution_count": 6,
   "metadata": {},
   "outputs": [],
   "source": [
    "cursor = db.score.find()"
   ]
  },
  {
   "cell_type": "code",
   "execution_count": 11,
   "metadata": {},
   "outputs": [
    {
     "name": "stdout",
     "output_type": "stream",
     "text": [
      "99.0\n",
      "0.0\n",
      "1.0\n",
      "2.0\n",
      "3.0\n",
      "4.0\n",
      "5\n"
     ]
    }
   ],
   "source": [
    "cursor.rewind()\n",
    "\n",
    "for data in list(cursor):\n",
    " print(data['a'])"
   ]
  },
  {
   "cell_type": "markdown",
   "metadata": {},
   "source": [
    "socore 컬렉션 데이터 입력\n"
   ]
  },
  {
   "cell_type": "code",
   "execution_count": 10,
   "metadata": {
    "scrolled": false
   },
   "outputs": [
    {
     "name": "stderr",
     "output_type": "stream",
     "text": [
      "C:\\Users\\student\\Miniconda3\\lib\\site-packages\\ipykernel_launcher.py:1: DeprecationWarning: save is deprecated. Use insert_one or replace_one instead\n",
      "  \"\"\"Entry point for launching an IPython kernel.\n"
     ]
    },
    {
     "data": {
      "text/plain": [
       "ObjectId('5e2ff18f47c95865e6aa1eb0')"
      ]
     },
     "execution_count": 10,
     "metadata": {},
     "output_type": "execute_result"
    }
   ],
   "source": [
    "db.score.save({'a':5, 'exam':6})"
   ]
  },
  {
   "cell_type": "markdown",
   "metadata": {},
   "source": [
    "### 인터파크투어 정보를 크롤링 한 후  mongoDB 에 저장하기 "
   ]
  },
  {
   "cell_type": "code",
   "execution_count": 62,
   "metadata": {},
   "outputs": [],
   "source": [
    "from selenium import webdriver as wd\n",
    "driver = wd.Chrome(executable_path='chromedriver.exe')"
   ]
  },
  {
   "cell_type": "code",
   "execution_count": 63,
   "metadata": {},
   "outputs": [],
   "source": [
    "\n",
    "from selenium.webdriver.common.by import By\n",
    "from selenium.webdriver.support.ui import WebDriverWait\n",
    "from selenium.webdriver.support import expected_conditions as EC\n",
    "import time\n",
    "\n",
    "from pymongo import MongoClient\n",
    "client = MongoClient(host='localhost', port=27017)\n",
    "db = client['test'] #DB\n",
    "cursor = db.tour.find()\n",
    "\n",
    "driver.get('http://tour.interpark.com')\n",
    "driver.implicitly_wait(10)\n",
    "driver.find_element_by_id('SearchGNBText').send_keys('달랏')\n",
    "driver.find_element_by_css_selector('button.search-btn').click()\n",
    "WebDriverWait(driver, 10).until(\n",
    " EC.presence_of_element_located((By.CLASS_NAME, 'oTravelBox'))\n",
    ")\n",
    "driver.find_element_by_css_selector('.oTravelBox .moreBtn').click()\n",
    "\n"
   ]
  },
  {
   "cell_type": "code",
   "execution_count": null,
   "metadata": {},
   "outputs": [],
   "source": [
    "for page in range(1, 2):\n",
    "    driver.execute_script(\"searchModule.SetCategoryList(%s, '')\" % page)\n",
    "    time.sleep(2)\n",
    "    boxItems = driver.find_elements_by_css_selector('.panelZone > .oTravelBox > .boxList > li')\n",
    "    for li in boxItems:\n",
    "        img = li.find_element_by_css_selector('img.img').get_attribute('src')\n",
    "        link = li.find_element_by_css_selector('a').get_attribute('onclick')\n",
    "        product = li.find_element_by_css_selector('h5.proTit').text\n",
    "        add = li.find_element_by_css_selector('.proSub').text\n",
    "        price = li.find_element_by_css_selector('strong.proPrice').text\n",
    "        \n",
    "        data = {}#dict\n",
    "        data['img'] = img\n",
    "        data['link'] = link\n",
    "        data['product'] = product\n",
    "        data['add'] = add\n",
    "        data['price'] = price\n",
    "        \n",
    "        db.tour.save(data)\n",
    "        \n",
    "        \n",
    "        \n",
    "        print('이미지',img )\n",
    "        print('링크',link )\n",
    "        print('상품명',product )\n",
    "        print('추가설명',add )\n",
    "        print('가격',price)\n",
    "\n",
    "        \n",
    "        \n",
    "        \n",
    "    print('=' * 20)\n",
    "driver.close()"
   ]
  },
  {
   "cell_type": "code",
   "execution_count": 66,
   "metadata": {},
   "outputs": [
    {
     "data": {
      "text/plain": [
       "<pymongo.cursor.Cursor at 0x25ae93b97c8>"
      ]
     },
     "execution_count": 66,
     "metadata": {},
     "output_type": "execute_result"
    }
   ],
   "source": [
    "db.tour.find() #주피터 노트북에서는 디비의 결과가 보여지지 않는다 !!!! "
   ]
  }
 ],
 "metadata": {
  "kernelspec": {
   "display_name": "Python 3",
   "language": "python",
   "name": "python3"
  },
  "language_info": {
   "codemirror_mode": {
    "name": "ipython",
    "version": 3
   },
   "file_extension": ".py",
   "mimetype": "text/x-python",
   "name": "python",
   "nbconvert_exporter": "python",
   "pygments_lexer": "ipython3",
   "version": "3.7.4"
  }
 },
 "nbformat": 4,
 "nbformat_minor": 2
}
